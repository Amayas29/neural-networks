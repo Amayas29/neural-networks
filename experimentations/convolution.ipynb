{
 "cells": [
  {
   "cell_type": "code",
   "execution_count": 1,
   "metadata": {},
   "outputs": [],
   "source": [
    "import sys\n",
    "sys.path.append('../src')\n",
    "\n",
    "from module.module import Linear, Conv1D\n",
    "from module.activation import TanH, Sigmoide\n",
    "\n",
    "from loss.loss import BCELoss\n",
    "from networks.optim import Optim\n",
    "from networks.sequentiel import Sequentiel\n",
    "\n",
    "from utils.generation import generate_linear_data, generate_data_gauss\n",
    "from utils.plots import plot_net\n",
    "\n",
    "import numpy as np\n",
    "\n",
    "\n",
    "import matplotlib.pyplot as plt"
   ]
  },
  {
   "cell_type": "code",
   "execution_count": 2,
   "metadata": {},
   "outputs": [
    {
     "data": {
      "text/plain": [
       "((5, 10, 3), (5, 4, 3))"
      ]
     },
     "execution_count": 2,
     "metadata": {},
     "output_type": "execute_result"
    }
   ],
   "source": [
    "np.random.seed(42)\n",
    "k = 3\n",
    "l = 10\n",
    "ch_i = 3\n",
    "ch_o = 3\n",
    "s = 2\n",
    "b = 5\n",
    "\n",
    "X = np.random.randn(b, l, ch_i)\n",
    "\n",
    "out_length = (l - k) // s + 1\n",
    "delta = np.random.randn(b, out_length, ch_o)\n",
    "X.shape, delta.shape"
   ]
  },
  {
   "cell_type": "code",
   "execution_count": 3,
   "metadata": {},
   "outputs": [
    {
     "data": {
      "text/plain": [
       "array([[[  0.26349207,  -1.86964575,  -3.78661465],\n",
       "        [  0.56474192,  -4.44563881,  -1.42672576],\n",
       "        [ -1.92231683,   9.88096281, -18.05349825]],\n",
       "\n",
       "       [[  0.26349207,  -1.86964575,  -3.78661465],\n",
       "        [  0.56474192,  -4.44563881,  -1.42672576],\n",
       "        [ -1.92231683,   9.88096281, -18.05349825]],\n",
       "\n",
       "       [[  0.26349207,  -1.86964575,  -3.78661465],\n",
       "        [  0.56474192,  -4.44563881,  -1.42672576],\n",
       "        [ -1.92231683,   9.88096281, -18.05349825]]])"
      ]
     },
     "execution_count": 3,
     "metadata": {},
     "output_type": "execute_result"
    }
   ],
   "source": [
    "np.random.seed(42)\n",
    "c = Conv1D(k_size=k, chan_in=ch_i, chan_out=ch_o, stride=s)\n",
    "c.backward_update_gradient(X, delta)\n",
    "c._gradient[\"W\"]"
   ]
  },
  {
   "cell_type": "code",
   "execution_count": 4,
   "metadata": {},
   "outputs": [
    {
     "ename": "ValueError",
     "evalue": "operands could not be broadcast together with shapes (5,3,3) (5,3,3,3) (5,3,3) ",
     "output_type": "error",
     "traceback": [
      "\u001b[0;31m---------------------------------------------------------------------------\u001b[0m",
      "\u001b[0;31mValueError\u001b[0m                                Traceback (most recent call last)",
      "\u001b[1;32m/home/amayas/Etudes/ML/neural-networks/experimentations/convolution.ipynb Cell 4\u001b[0m in \u001b[0;36m<cell line: 1>\u001b[0;34m()\u001b[0m\n\u001b[0;32m----> <a href='vscode-notebook-cell:/home/amayas/Etudes/ML/neural-networks/experimentations/convolution.ipynb#X46sZmlsZQ%3D%3D?line=0'>1</a>\u001b[0m c\u001b[39m.\u001b[39;49mbackward_delta(X, delta)\n",
      "File \u001b[0;32m~/Etudes/ML/neural-networks/experimentations/../src/module/module.py:159\u001b[0m, in \u001b[0;36mConv1D.backward_delta\u001b[0;34m(self, X, delta)\u001b[0m\n\u001b[1;32m    157\u001b[0m     grad_delta \u001b[39m=\u001b[39m np\u001b[39m.\u001b[39mrepeat(grad_delta, \u001b[39mself\u001b[39m\u001b[39m.\u001b[39m_k_size, axis\u001b[39m=\u001b[39m\u001b[39m1\u001b[39m)\n\u001b[1;32m    158\u001b[0m     W \u001b[39m=\u001b[39m np\u001b[39m.\u001b[39mtranspose(\u001b[39mself\u001b[39m\u001b[39m.\u001b[39m_parameters[\u001b[39m\"\u001b[39m\u001b[39mW\u001b[39m\u001b[39m\"\u001b[39m], (\u001b[39m2\u001b[39m, \u001b[39m0\u001b[39m, \u001b[39m1\u001b[39m))\n\u001b[0;32m--> 159\u001b[0m     dx[:, i \u001b[39m*\u001b[39m \u001b[39mself\u001b[39m\u001b[39m.\u001b[39m_stride : i \u001b[39m*\u001b[39m \u001b[39mself\u001b[39m\u001b[39m.\u001b[39m_stride \u001b[39m+\u001b[39m \u001b[39mself\u001b[39m\u001b[39m.\u001b[39m_k_size, :] \u001b[39m+\u001b[39m\u001b[39m=\u001b[39m (\n\u001b[1;32m    160\u001b[0m         grad_delta \u001b[39m*\u001b[39m W[np\u001b[39m.\u001b[39mnewaxis, :, :, :]\n\u001b[1;32m    161\u001b[0m     )\n\u001b[1;32m    163\u001b[0m \u001b[39mreturn\u001b[39;00m dx\n",
      "\u001b[0;31mValueError\u001b[0m: operands could not be broadcast together with shapes (5,3,3) (5,3,3,3) (5,3,3) "
     ]
    }
   ],
   "source": [
    "c.backward_delta(X, delta)"
   ]
  },
  {
   "cell_type": "code",
   "execution_count": null,
   "metadata": {},
   "outputs": [],
   "source": []
  }
 ],
 "metadata": {
  "kernelspec": {
   "display_name": "base",
   "language": "python",
   "name": "python3"
  },
  "language_info": {
   "codemirror_mode": {
    "name": "ipython",
    "version": 3
   },
   "file_extension": ".py",
   "mimetype": "text/x-python",
   "name": "python",
   "nbconvert_exporter": "python",
   "pygments_lexer": "ipython3",
   "version": "3.9.12"
  },
  "orig_nbformat": 4
 },
 "nbformat": 4,
 "nbformat_minor": 2
}
