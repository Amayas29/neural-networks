{
 "cells": [
  {
   "cell_type": "code",
   "execution_count": 1,
   "metadata": {},
   "outputs": [],
   "source": [
    "import sys\n",
    "sys.path.append('../src')\n",
    "\n",
    "from module.module import Linear, Conv1D, MaxPool1D, Flatten\n",
    "from module.activation import TanH, Sigmoide, ReLU\n",
    "\n",
    "from loss.loss import CELogSoftmax\n",
    "from networks.optim import Optim\n",
    "from networks.sequentiel import Sequentiel\n",
    "\n",
    "from utils.processing import one_hot_y\n",
    "from utils.plots import plot_net\n",
    "\n",
    "import numpy as np\n",
    "import pickle as pkl\n",
    "import matplotlib.pyplot as plt"
   ]
  },
  {
   "cell_type": "code",
   "execution_count": 2,
   "metadata": {},
   "outputs": [],
   "source": [
    "import warnings\n",
    "warnings.filterwarnings('ignore')"
   ]
  },
  {
   "cell_type": "code",
   "execution_count": 3,
   "metadata": {},
   "outputs": [],
   "source": [
    "data = pkl.load(open(\"../data/usps.pkl\",'rb')) "
   ]
  },
  {
   "cell_type": "code",
   "execution_count": 4,
   "metadata": {},
   "outputs": [],
   "source": [
    "X = data[\"X_train\"]\n",
    "y = data[\"Y_train\"]\n",
    "\n",
    "X_test = data[\"X_test\"]\n",
    "y_test = data[\"Y_test\"]"
   ]
  },
  {
   "cell_type": "code",
   "execution_count": 5,
   "metadata": {},
   "outputs": [],
   "source": [
    "classes = len(np.unique(y))\n",
    "\n",
    "input_neurons = X.shape[1]\n",
    "output_neurons = classes"
   ]
  },
  {
   "cell_type": "code",
   "execution_count": 6,
   "metadata": {},
   "outputs": [],
   "source": [
    "y_one_hot = one_hot_y(y, classes)"
   ]
  },
  {
   "cell_type": "code",
   "execution_count": 7,
   "metadata": {},
   "outputs": [],
   "source": [
    "X_conv = X[:,:,np.newaxis]"
   ]
  },
  {
   "cell_type": "code",
   "execution_count": 8,
   "metadata": {},
   "outputs": [
    {
     "data": {
      "text/plain": [
       "(6229, 256, 1)"
      ]
     },
     "execution_count": 8,
     "metadata": {},
     "output_type": "execute_result"
    }
   ],
   "source": [
    "X_conv.shape"
   ]
  },
  {
   "cell_type": "code",
   "execution_count": 10,
   "metadata": {},
   "outputs": [
    {
     "name": "stderr",
     "output_type": "stream",
     "text": [
      " 60%|██████    | 6/10 [01:39<01:07, 16.97s/it]"
     ]
    }
   ],
   "source": [
    "net = Sequentiel([\n",
    "    Conv1D(k_size=3, chan_in=1, chan_out=32, stride=1, init=\"xavier\"),\n",
    "    MaxPool1D(2, 2),\n",
    "    Flatten(),\n",
    "    Linear(4064, 100, init=\"xavier\"),\n",
    "    ReLU(),\n",
    "    Linear(100, 10, init=\"xavier\"),\n",
    "], classes_type=\"multi\")\n",
    "\n",
    "optim = Optim(net, CELogSoftmax(), eps=1e-3)\n",
    "optim.SGD(X_conv, y_one_hot, test_train_split=True, batch_size=1000, epochs=10, verbose=False)\n",
    "\n",
    "plot_net(optim, X_conv, y_one_hot, net_type=\"multiclass\", net_title=\"Conv multi-classification\")"
   ]
  },
  {
   "cell_type": "code",
   "execution_count": null,
   "metadata": {},
   "outputs": [],
   "source": [
    "net(X_test[:,:,np.newaxis], y_test)"
   ]
  }
 ],
 "metadata": {
  "kernelspec": {
   "display_name": "base",
   "language": "python",
   "name": "python3"
  },
  "language_info": {
   "codemirror_mode": {
    "name": "ipython",
    "version": 3
   },
   "file_extension": ".py",
   "mimetype": "text/x-python",
   "name": "python",
   "nbconvert_exporter": "python",
   "pygments_lexer": "ipython3",
   "version": "3.9.12"
  },
  "orig_nbformat": 4
 },
 "nbformat": 4,
 "nbformat_minor": 2
}
