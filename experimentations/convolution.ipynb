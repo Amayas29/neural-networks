{
 "cells": [
  {
   "cell_type": "code",
   "execution_count": 1,
   "metadata": {},
   "outputs": [],
   "source": [
    "import sys\n",
    "sys.path.append('../src')\n",
    "\n",
    "from module.module import Linear, Conv1D\n",
    "from module.activation import TanH, Sigmoide\n",
    "\n",
    "from loss.loss import BCELoss\n",
    "from networks.optim import Optim\n",
    "from networks.sequentiel import Sequentiel\n",
    "\n",
    "from utils.generation import generate_linear_data, generate_data_gauss\n",
    "from utils.plots import plot_net\n",
    "from utils.evaluation import accuracy\n",
    "\n",
    "import numpy as np\n",
    "from numpy.lib.stride_tricks import sliding_window_view, as_strided\n",
    "\n",
    "import pickle as pkl\n",
    "import matplotlib.pyplot as plt"
   ]
  },
  {
   "cell_type": "code",
   "execution_count": 2,
   "metadata": {},
   "outputs": [
    {
     "data": {
      "text/plain": [
       "(5, 10, 3)"
      ]
     },
     "execution_count": 2,
     "metadata": {},
     "output_type": "execute_result"
    }
   ],
   "source": [
    "np.random.seed(42)\n",
    "X = np.random.randn(5, 10, 3)\n",
    "X.shape"
   ]
  },
  {
   "cell_type": "code",
   "execution_count": 3,
   "metadata": {},
   "outputs": [],
   "source": [
    "c = Conv1D(k_size=3, chan_in=3, chan_out=2, stride=2)"
   ]
  },
  {
   "cell_type": "code",
   "execution_count": 4,
   "metadata": {},
   "outputs": [],
   "source": [
    "A = c.forward(X)"
   ]
  },
  {
   "cell_type": "code",
   "execution_count": 5,
   "metadata": {},
   "outputs": [],
   "source": [
    "B = c.forward2(X)"
   ]
  },
  {
   "cell_type": "code",
   "execution_count": 6,
   "metadata": {},
   "outputs": [
    {
     "data": {
      "text/plain": [
       "array([[[  7.9421775 ,  -7.55566583],\n",
       "        [ -0.54722464,  -5.32069307],\n",
       "        [  4.51098065,  11.77148418],\n",
       "        [  5.18098037,  -5.1064122 ]],\n",
       "\n",
       "       [[ -8.53297298,  -5.08263154],\n",
       "        [  1.22101006,   0.75794134],\n",
       "        [ -3.11828521,   4.59333219],\n",
       "        [  4.9696344 ,  -5.01924836]],\n",
       "\n",
       "       [[ -7.81274331,   5.05466735],\n",
       "        [-10.28756603,  -7.86035277],\n",
       "        [ -1.62067428,   4.8389521 ],\n",
       "        [  1.30047024,   6.49644793]],\n",
       "\n",
       "       [[  3.33908922,  -0.60278069],\n",
       "        [  3.32268457,  -0.32094303],\n",
       "        [ -4.62592128,  -4.4313032 ],\n",
       "        [ -6.69616222,   6.41398333]],\n",
       "\n",
       "       [[-12.86922766,   1.34541325],\n",
       "        [  3.90476659,   0.100442  ],\n",
       "        [  7.70331083,   0.49570866],\n",
       "        [ 11.13839103,  -4.88721274]]])"
      ]
     },
     "execution_count": 6,
     "metadata": {},
     "output_type": "execute_result"
    }
   ],
   "source": [
    "A"
   ]
  },
  {
   "cell_type": "code",
   "execution_count": 7,
   "metadata": {},
   "outputs": [
    {
     "data": {
      "text/plain": [
       "array([[[  7.9421775 ,  -7.55566583],\n",
       "        [ -0.54722464,  -5.32069307],\n",
       "        [  4.51098065,  11.77148418],\n",
       "        [  5.18098037,  -5.1064122 ]],\n",
       "\n",
       "       [[ -8.53297298,  -5.08263154],\n",
       "        [  1.22101006,   0.75794134],\n",
       "        [ -3.11828521,   4.59333219],\n",
       "        [  4.9696344 ,  -5.01924836]],\n",
       "\n",
       "       [[ -7.81274331,   5.05466735],\n",
       "        [-10.28756603,  -7.86035277],\n",
       "        [ -1.62067428,   4.8389521 ],\n",
       "        [  1.30047024,   6.49644793]],\n",
       "\n",
       "       [[  3.33908922,  -0.60278069],\n",
       "        [  3.32268457,  -0.32094303],\n",
       "        [ -4.62592128,  -4.4313032 ],\n",
       "        [ -6.69616222,   6.41398333]],\n",
       "\n",
       "       [[-12.86922766,   1.34541325],\n",
       "        [  3.90476659,   0.100442  ],\n",
       "        [  7.70331083,   0.49570866],\n",
       "        [ 11.13839103,  -4.88721274]]])"
      ]
     },
     "execution_count": 7,
     "metadata": {},
     "output_type": "execute_result"
    }
   ],
   "source": [
    "B"
   ]
  },
  {
   "cell_type": "code",
   "execution_count": null,
   "metadata": {},
   "outputs": [],
   "source": []
  }
 ],
 "metadata": {
  "kernelspec": {
   "display_name": "base",
   "language": "python",
   "name": "python3"
  },
  "language_info": {
   "codemirror_mode": {
    "name": "ipython",
    "version": 3
   },
   "file_extension": ".py",
   "mimetype": "text/x-python",
   "name": "python",
   "nbconvert_exporter": "python",
   "pygments_lexer": "ipython3",
   "version": "3.9.12"
  },
  "orig_nbformat": 4
 },
 "nbformat": 4,
 "nbformat_minor": 2
}
