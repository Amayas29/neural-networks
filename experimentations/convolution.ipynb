{
 "cells": [
  {
   "cell_type": "code",
   "execution_count": 1,
   "metadata": {},
   "outputs": [],
   "source": [
    "import sys\n",
    "sys.path.append('../src')\n",
    "\n",
    "from module.module import Linear, Conv1D\n",
    "from module.activation import TanH, Sigmoide\n",
    "\n",
    "from loss.loss import BCELoss\n",
    "from networks.optim import Optim\n",
    "from networks.sequentiel import Sequentiel\n",
    "\n",
    "from utils.generation import generate_linear_data, generate_data_gauss\n",
    "from utils.plots import plot_net\n",
    "\n",
    "import numpy as np\n",
    "\n",
    "\n",
    "import matplotlib.pyplot as plt"
   ]
  },
  {
   "cell_type": "code",
   "execution_count": 2,
   "metadata": {},
   "outputs": [
    {
     "data": {
      "text/plain": [
       "((5, 10, 3), (5, 4, 3))"
      ]
     },
     "execution_count": 2,
     "metadata": {},
     "output_type": "execute_result"
    }
   ],
   "source": [
    "np.random.seed(42)\n",
    "k = 3\n",
    "l = 10\n",
    "ch_i = 3\n",
    "ch_o = 3\n",
    "s = 2\n",
    "b = 5\n",
    "\n",
    "X = np.random.randn(b, l, ch_i)\n",
    "\n",
    "out_length = (l - k) // s + 1\n",
    "delta = np.random.randn(b, out_length, ch_o)\n",
    "X.shape, delta.shape"
   ]
  },
  {
   "cell_type": "code",
   "execution_count": 3,
   "metadata": {},
   "outputs": [
    {
     "data": {
      "text/plain": [
       "array([[[  0.26349207,  -1.86964575,  -3.78661465],\n",
       "        [ -3.47642482,   3.23233144,   1.19128627],\n",
       "        [ -3.735938  ,  -0.70077142,  -5.12308996]],\n",
       "\n",
       "       [[  1.49200363,  -3.21130311,   0.56303812],\n",
       "        [  0.56474192,  -4.44563881,  -1.42672576],\n",
       "        [ -0.50148328,   6.66006674,   2.35189809]],\n",
       "\n",
       "       [[ -0.55249753,  -8.08756586,   6.90049304],\n",
       "        [  1.48133968,  -2.48732003,   4.25432441],\n",
       "        [ -1.92231683,   9.88096281, -18.05349825]]])"
      ]
     },
     "execution_count": 3,
     "metadata": {},
     "output_type": "execute_result"
    }
   ],
   "source": [
    "np.random.seed(42)\n",
    "c = Conv1D(k_size=k, chan_in=ch_i, chan_out=ch_o, stride=s)\n",
    "c.backward_update_gradient(X, delta)\n",
    "c._gradient[\"W\"]"
   ]
  },
  {
   "cell_type": "code",
   "execution_count": 6,
   "metadata": {},
   "outputs": [
    {
     "data": {
      "text/plain": [
       "(5, 10, 3)"
      ]
     },
     "execution_count": 6,
     "metadata": {},
     "output_type": "execute_result"
    }
   ],
   "source": [
    "c.backward_delta(X, delta).shape"
   ]
  },
  {
   "cell_type": "code",
   "execution_count": 5,
   "metadata": {},
   "outputs": [
    {
     "data": {
      "text/plain": [
       "(3, 3, 3)"
      ]
     },
     "execution_count": 5,
     "metadata": {},
     "output_type": "execute_result"
    }
   ],
   "source": [
    "c._gradient[\"W\"].shape"
   ]
  },
  {
   "cell_type": "code",
   "execution_count": null,
   "metadata": {},
   "outputs": [],
   "source": []
  }
 ],
 "metadata": {
  "kernelspec": {
   "display_name": "base",
   "language": "python",
   "name": "python3"
  },
  "language_info": {
   "codemirror_mode": {
    "name": "ipython",
    "version": 3
   },
   "file_extension": ".py",
   "mimetype": "text/x-python",
   "name": "python",
   "nbconvert_exporter": "python",
   "pygments_lexer": "ipython3",
   "version": "3.10.10"
  },
  "orig_nbformat": 4
 },
 "nbformat": 4,
 "nbformat_minor": 2
}
