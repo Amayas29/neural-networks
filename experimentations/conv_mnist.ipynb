{
 "cells": [
  {
   "cell_type": "code",
   "execution_count": 1,
   "metadata": {},
   "outputs": [],
   "source": [
    "import sys\n",
    "sys.path.append('../src')\n",
    "\n",
    "from module.module import Linear, Conv1D, MaxPool1D, Flatten\n",
    "from module.activation import TanH, Sigmoide, ReLU\n",
    "\n",
    "from loss.loss import CrossEntropie, CELogSoftmax\n",
    "from networks.optim import Optim\n",
    "from networks.sequentiel import Sequentiel\n",
    "\n",
    "from utils.processing import one_hot_y\n",
    "from utils.plots import plot_net, classification_report\n",
    "\n",
    "import pandas as pd\n",
    "import numpy as np\n",
    "import pickle as pkl\n",
    "import matplotlib.pyplot as plt"
   ]
  },
  {
   "cell_type": "code",
   "execution_count": 2,
   "metadata": {},
   "outputs": [],
   "source": [
    "dt = pd.read_csv(\"../data/fashion-mnist_train.csv\")\n",
    "\n",
    "X = dt.drop([\"label\"], axis=1).values\n",
    "y = dt[\"label\"].values\n",
    "\n",
    "X = (X - X.min(axis=1, keepdims=True)) / (X.max(axis=1, keepdims=True) - X.min(axis=1, keepdims=True))\n",
    "\n",
    "indices = np.random.permutation(len(X))\n",
    "X = X[indices]\n",
    "y = y[indices]"
   ]
  },
  {
   "cell_type": "code",
   "execution_count": 3,
   "metadata": {},
   "outputs": [],
   "source": [
    "X_train = X[:10_000]\n",
    "y_train = y[:10_000]\n",
    "\n",
    "X_test = X[10_000:14_000]\n",
    "y_test = y[10_000:14_000]"
   ]
  },
  {
   "cell_type": "code",
   "execution_count": 4,
   "metadata": {},
   "outputs": [],
   "source": [
    "classes = len(np.unique(y))\n",
    "\n",
    "input_neurons = X_train.shape[1]\n",
    "output_neurons = classes"
   ]
  },
  {
   "cell_type": "code",
   "execution_count": 5,
   "metadata": {},
   "outputs": [],
   "source": [
    "y_one_hot = one_hot_y(y_train, classes)"
   ]
  },
  {
   "cell_type": "code",
   "execution_count": 6,
   "metadata": {},
   "outputs": [
    {
     "data": {
      "text/plain": [
       "(10000, 10)"
      ]
     },
     "execution_count": 6,
     "metadata": {},
     "output_type": "execute_result"
    }
   ],
   "source": [
    "y_one_hot.shape"
   ]
  },
  {
   "cell_type": "code",
   "execution_count": 7,
   "metadata": {},
   "outputs": [
    {
     "data": {
      "text/plain": [
       "(10000, 784, 1)"
      ]
     },
     "execution_count": 7,
     "metadata": {},
     "output_type": "execute_result"
    }
   ],
   "source": [
    "X_conv = X_train[:,:,np.newaxis]\n",
    "X_conv.shape"
   ]
  },
  {
   "cell_type": "code",
   "execution_count": 8,
   "metadata": {},
   "outputs": [
    {
     "name": "stderr",
     "output_type": "stream",
     "text": [
      "  0%|          | 0/70 [01:14<?, ?it/s]\n"
     ]
    },
    {
     "ename": "KeyboardInterrupt",
     "evalue": "",
     "output_type": "error",
     "traceback": [
      "\u001b[0;31m---------------------------------------------------------------------------\u001b[0m",
      "\u001b[0;31mKeyboardInterrupt\u001b[0m                         Traceback (most recent call last)",
      "\u001b[1;32m/home/amayas/Etudes/ML/neural-networks/experimentations/conv_mnist.ipynb Cell 8\u001b[0m in \u001b[0;36m<cell line: 17>\u001b[0;34m()\u001b[0m\n\u001b[1;32m      <a href='vscode-notebook-cell:/home/amayas/Etudes/ML/neural-networks/experimentations/conv_mnist.ipynb#X13sZmlsZQ%3D%3D?line=2'>3</a>\u001b[0m net \u001b[39m=\u001b[39m Sequentiel([\n\u001b[1;32m      <a href='vscode-notebook-cell:/home/amayas/Etudes/ML/neural-networks/experimentations/conv_mnist.ipynb#X13sZmlsZQ%3D%3D?line=3'>4</a>\u001b[0m     Conv1D(k_size\u001b[39m=\u001b[39m\u001b[39m3\u001b[39m, chan_in\u001b[39m=\u001b[39m\u001b[39m1\u001b[39m, chan_out\u001b[39m=\u001b[39m\u001b[39m32\u001b[39m, stride\u001b[39m=\u001b[39m\u001b[39m2\u001b[39m, init\u001b[39m=\u001b[39m\u001b[39m\"\u001b[39m\u001b[39mxavier\u001b[39m\u001b[39m\"\u001b[39m),\n\u001b[1;32m      <a href='vscode-notebook-cell:/home/amayas/Etudes/ML/neural-networks/experimentations/conv_mnist.ipynb#X13sZmlsZQ%3D%3D?line=4'>5</a>\u001b[0m     MaxPool1D(\u001b[39m2\u001b[39m, \u001b[39m2\u001b[39m), \n\u001b[0;32m   (...)\u001b[0m\n\u001b[1;32m     <a href='vscode-notebook-cell:/home/amayas/Etudes/ML/neural-networks/experimentations/conv_mnist.ipynb#X13sZmlsZQ%3D%3D?line=12'>13</a>\u001b[0m     Linear(\u001b[39m100\u001b[39m, \u001b[39m10\u001b[39m, init\u001b[39m=\u001b[39m\u001b[39m\"\u001b[39m\u001b[39mxavier\u001b[39m\u001b[39m\"\u001b[39m),\n\u001b[1;32m     <a href='vscode-notebook-cell:/home/amayas/Etudes/ML/neural-networks/experimentations/conv_mnist.ipynb#X13sZmlsZQ%3D%3D?line=13'>14</a>\u001b[0m ], classes_type\u001b[39m=\u001b[39m\u001b[39m\"\u001b[39m\u001b[39mmulti\u001b[39m\u001b[39m\"\u001b[39m)\n\u001b[1;32m     <a href='vscode-notebook-cell:/home/amayas/Etudes/ML/neural-networks/experimentations/conv_mnist.ipynb#X13sZmlsZQ%3D%3D?line=15'>16</a>\u001b[0m optim \u001b[39m=\u001b[39m Optim(net, CELogSoftmax(), eps\u001b[39m=\u001b[39m\u001b[39m1e-5\u001b[39m)\n\u001b[0;32m---> <a href='vscode-notebook-cell:/home/amayas/Etudes/ML/neural-networks/experimentations/conv_mnist.ipynb#X13sZmlsZQ%3D%3D?line=16'>17</a>\u001b[0m optim\u001b[39m.\u001b[39;49mSGD(X_conv, y_one_hot, test_train_split\u001b[39m=\u001b[39;49m\u001b[39mTrue\u001b[39;49;00m, batch_size\u001b[39m=\u001b[39;49m\u001b[39m50\u001b[39;49m, epochs\u001b[39m=\u001b[39;49m\u001b[39m70\u001b[39;49m, verbose\u001b[39m=\u001b[39;49m\u001b[39mTrue\u001b[39;49;00m)\n\u001b[1;32m     <a href='vscode-notebook-cell:/home/amayas/Etudes/ML/neural-networks/experimentations/conv_mnist.ipynb#X13sZmlsZQ%3D%3D?line=18'>19</a>\u001b[0m plot_net(optim, X_conv, y_one_hot, net_type\u001b[39m=\u001b[39m\u001b[39m\"\u001b[39m\u001b[39mmulticlass\u001b[39m\u001b[39m\"\u001b[39m, net_title\u001b[39m=\u001b[39m\u001b[39m\"\u001b[39m\u001b[39mConv multi-classification\u001b[39m\u001b[39m\"\u001b[39m)\n",
      "File \u001b[0;32m~/Etudes/ML/neural-networks/experimentations/../src/networks/optim.py:76\u001b[0m, in \u001b[0;36mOptim.SGD\u001b[0;34m(self, X, y, batch_size, epochs, test_train_split, verbose)\u001b[0m\n\u001b[1;32m     73\u001b[0m     loss_value \u001b[39m=\u001b[39m \u001b[39mself\u001b[39m\u001b[39m.\u001b[39mloss(y_test, y_test_hat)\u001b[39m.\u001b[39mmean()\n\u001b[1;32m     74\u001b[0m     \u001b[39mself\u001b[39m\u001b[39m.\u001b[39mtest_loss\u001b[39m.\u001b[39mappend(loss_value)\n\u001b[0;32m---> 76\u001b[0m     score_epoch \u001b[39m=\u001b[39m \u001b[39mself\u001b[39;49m\u001b[39m.\u001b[39;49mnet\u001b[39m.\u001b[39;49mscore(X_test, y_test)\n\u001b[1;32m     77\u001b[0m     \u001b[39mself\u001b[39m\u001b[39m.\u001b[39mtest_score\u001b[39m.\u001b[39mappend(score_epoch)\n\u001b[1;32m     79\u001b[0m \u001b[39mif\u001b[39;00m verbose:\n",
      "File \u001b[0;32m~/Etudes/ML/neural-networks/experimentations/../src/networks/sequentiel.py:60\u001b[0m, in \u001b[0;36mSequentiel.score\u001b[0;34m(self, X, y)\u001b[0m\n\u001b[1;32m     57\u001b[0m \u001b[39mif\u001b[39;00m y\u001b[39m.\u001b[39mshape[\u001b[39m1\u001b[39m] \u001b[39m>\u001b[39m \u001b[39m1\u001b[39m:\n\u001b[1;32m     58\u001b[0m     y \u001b[39m=\u001b[39m np\u001b[39m.\u001b[39margmax(y, axis\u001b[39m=\u001b[39m\u001b[39m1\u001b[39m, keepdims\u001b[39m=\u001b[39m\u001b[39mTrue\u001b[39;00m)\n\u001b[0;32m---> 60\u001b[0m yhat \u001b[39m=\u001b[39m \u001b[39mself\u001b[39;49m\u001b[39m.\u001b[39;49mpredict(X)\n\u001b[1;32m     61\u001b[0m \u001b[39mreturn\u001b[39;00m (yhat \u001b[39m==\u001b[39m y)\u001b[39m.\u001b[39mmean()\n",
      "File \u001b[0;32m~/Etudes/ML/neural-networks/experimentations/../src/networks/sequentiel.py:37\u001b[0m, in \u001b[0;36mSequentiel.predict\u001b[0;34m(self, X)\u001b[0m\n\u001b[1;32m     36\u001b[0m \u001b[39mdef\u001b[39;00m \u001b[39mpredict\u001b[39m(\u001b[39mself\u001b[39m, X):\n\u001b[0;32m---> 37\u001b[0m     ypred \u001b[39m=\u001b[39m \u001b[39mself\u001b[39;49m(X)\n\u001b[1;32m     39\u001b[0m     \u001b[39mif\u001b[39;00m \u001b[39mself\u001b[39m\u001b[39m.\u001b[39mclasses_type \u001b[39m==\u001b[39m \u001b[39m\"\u001b[39m\u001b[39mmulti\u001b[39m\u001b[39m\"\u001b[39m:\n\u001b[1;32m     40\u001b[0m         \u001b[39mreturn\u001b[39;00m np\u001b[39m.\u001b[39margmax(ypred, axis\u001b[39m=\u001b[39m\u001b[39m1\u001b[39m, keepdims\u001b[39m=\u001b[39m\u001b[39mTrue\u001b[39;00m)\n",
      "File \u001b[0;32m~/Etudes/ML/neural-networks/experimentations/../src/networks/sequentiel.py:12\u001b[0m, in \u001b[0;36mSequentiel.__call__\u001b[0;34m(self, *args, **kwds)\u001b[0m\n\u001b[1;32m     11\u001b[0m \u001b[39mdef\u001b[39;00m \u001b[39m__call__\u001b[39m(\u001b[39mself\u001b[39m, \u001b[39m*\u001b[39margs, \u001b[39m*\u001b[39m\u001b[39m*\u001b[39mkwds):\n\u001b[0;32m---> 12\u001b[0m     \u001b[39mreturn\u001b[39;00m \u001b[39mself\u001b[39;49m\u001b[39m.\u001b[39;49mforward(\u001b[39m*\u001b[39;49margs, \u001b[39m*\u001b[39;49m\u001b[39m*\u001b[39;49mkwds)\n",
      "File \u001b[0;32m~/Etudes/ML/neural-networks/experimentations/../src/networks/sequentiel.py:19\u001b[0m, in \u001b[0;36mSequentiel.forward\u001b[0;34m(self, X)\u001b[0m\n\u001b[1;32m     17\u001b[0m \u001b[39mfor\u001b[39;00m module \u001b[39min\u001b[39;00m \u001b[39mself\u001b[39m\u001b[39m.\u001b[39mmodules:\n\u001b[1;32m     18\u001b[0m     \u001b[39mself\u001b[39m\u001b[39m.\u001b[39minputs_modules\u001b[39m.\u001b[39mappend(X)\n\u001b[0;32m---> 19\u001b[0m     X \u001b[39m=\u001b[39m module\u001b[39m.\u001b[39;49mforward(X)\n\u001b[1;32m     20\u001b[0m \u001b[39mreturn\u001b[39;00m X\n",
      "File \u001b[0;32m~/Etudes/ML/neural-networks/experimentations/../src/module/module.py:36\u001b[0m, in \u001b[0;36mLinear.forward\u001b[0;34m(self, X)\u001b[0m\n\u001b[1;32m     31\u001b[0m \u001b[39mdef\u001b[39;00m \u001b[39mforward\u001b[39m(\u001b[39mself\u001b[39m, X):\n\u001b[1;32m     32\u001b[0m     \u001b[39massert\u001b[39;00m X\u001b[39m.\u001b[39mshape[\u001b[39m1\u001b[39m] \u001b[39m==\u001b[39m \u001b[39mself\u001b[39m\u001b[39m.\u001b[39m_input_dim, \u001b[39mValueError\u001b[39;00m(\n\u001b[1;32m     33\u001b[0m         \u001b[39m\"\u001b[39m\u001b[39mLes dimensions de X doivent être (batch_size, input_dim)\u001b[39m\u001b[39m\"\u001b[39m\n\u001b[1;32m     34\u001b[0m     )\n\u001b[0;32m---> 36\u001b[0m     out \u001b[39m=\u001b[39m np\u001b[39m.\u001b[39;49mdot(X, \u001b[39mself\u001b[39;49m\u001b[39m.\u001b[39;49m_parameters[\u001b[39m\"\u001b[39;49m\u001b[39mW\u001b[39;49m\u001b[39m\"\u001b[39;49m])\n\u001b[1;32m     38\u001b[0m     \u001b[39mif\u001b[39;00m \u001b[39mself\u001b[39m\u001b[39m.\u001b[39mbias:\n\u001b[1;32m     39\u001b[0m         out \u001b[39m+\u001b[39m\u001b[39m=\u001b[39m \u001b[39mself\u001b[39m\u001b[39m.\u001b[39m_parameters[\u001b[39m\"\u001b[39m\u001b[39mb\u001b[39m\u001b[39m\"\u001b[39m]\n",
      "File \u001b[0;32m<__array_function__ internals>:180\u001b[0m, in \u001b[0;36mdot\u001b[0;34m(*args, **kwargs)\u001b[0m\n",
      "\u001b[0;31mKeyboardInterrupt\u001b[0m: "
     ]
    }
   ],
   "source": [
    "np.random.seed(42)\n",
    "\n",
    "net = Sequentiel([\n",
    "    Conv1D(k_size=3, chan_in=1, chan_out=32, stride=2, init=\"xavier\"),\n",
    "    MaxPool1D(2, 2), \n",
    "    Flatten(),\n",
    "    Linear(6240, 3000, init=\"xavier\"),\n",
    "    ReLU(),\n",
    "    Linear(3000, 500, init=\"xavier\"),\n",
    "    ReLU(),\n",
    "    Linear(500, 100, init=\"xavier\"),\n",
    "    ReLU(),\n",
    "    Linear(100, 10, init=\"xavier\"),\n",
    "], classes_type=\"multi\")\n",
    "\n",
    "optim = Optim(net, CELogSoftmax(), eps=1e-5)\n",
    "optim.SGD(X_conv, y_one_hot, test_train_split=True, batch_size=50, epochs=70, verbose=False)\n",
    "\n",
    "plot_net(optim, X_conv, y_one_hot, net_type=\"multiclass\", net_title=\"Conv multi-classification\")"
   ]
  },
  {
   "cell_type": "code",
   "execution_count": null,
   "metadata": {},
   "outputs": [
    {
     "data": {
      "text/plain": [
       "0.807"
      ]
     },
     "execution_count": 12,
     "metadata": {},
     "output_type": "execute_result"
    }
   ],
   "source": [
    "net.score(X_test[:,:,np.newaxis], y_test)"
   ]
  },
  {
   "cell_type": "code",
   "execution_count": null,
   "metadata": {},
   "outputs": [
    {
     "ename": "",
     "evalue": "",
     "output_type": "error",
     "traceback": [
      "\u001b[1;31mCanceled future for execute_request message before replies were done"
     ]
    },
    {
     "ename": "",
     "evalue": "",
     "output_type": "error",
     "traceback": [
      "\u001b[1;31mThe Kernel crashed while executing code in the the current cell or a previous cell. Please review the code in the cell(s) to identify a possible cause of the failure. Click <a href='https://aka.ms/vscodeJupyterKernelCrash'>here</a> for more info. View Jupyter <a href='command:jupyter.viewOutput'>log</a> for further details."
     ]
    }
   ],
   "source": [
    "yhat = net(X_test[:,:,np.newaxis])"
   ]
  },
  {
   "cell_type": "code",
   "execution_count": null,
   "metadata": {},
   "outputs": [],
   "source": [
    "df = classification_report(y_test, yhat, [f\"{i}\" for i in range(classes)])"
   ]
  },
  {
   "cell_type": "code",
   "execution_count": null,
   "metadata": {},
   "outputs": [],
   "source": [
    "print(df.to_latex(float_format=\"{:.2f}\".format))"
   ]
  }
 ],
 "metadata": {
  "kernelspec": {
   "display_name": "Python 3",
   "language": "python",
   "name": "python3"
  },
  "language_info": {
   "codemirror_mode": {
    "name": "ipython",
    "version": 3
   },
   "file_extension": ".py",
   "mimetype": "text/x-python",
   "name": "python",
   "nbconvert_exporter": "python",
   "pygments_lexer": "ipython3",
   "version": "3.9.12"
  },
  "orig_nbformat": 4
 },
 "nbformat": 4,
 "nbformat_minor": 2
}
