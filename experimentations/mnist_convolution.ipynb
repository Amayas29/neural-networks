{
 "cells": [
  {
   "cell_type": "code",
   "execution_count": 3,
   "metadata": {},
   "outputs": [],
   "source": [
    "import sys\n",
    "sys.path.append('../src')\n",
    "\n",
    "from module.module import Linear, Conv1D, MaxPool1D, Flatten\n",
    "from module.activation import TanH, Sigmoide, ReLU\n",
    "\n",
    "from loss.loss import CELogSoftmax\n",
    "from networks.optim import Optim\n",
    "from networks.sequentiel import Sequentiel\n",
    "\n",
    "from utils.processing import one_hot_y\n",
    "from utils.plots import plot_net, classification_report\n",
    "\n",
    "import pandas as pd\n",
    "import numpy as np\n",
    "import matplotlib.pyplot as plt"
   ]
  },
  {
   "cell_type": "code",
   "execution_count": 7,
   "metadata": {},
   "outputs": [],
   "source": [
    "data = pd.read_csv(r\"../data/fashion-mnist_train.csv\", dtype=np.float32)\n",
    "data[\"label\"] = data[\"label\"].astype(int)\n",
    "\n",
    "data = data[0:9000]"
   ]
  },
  {
   "cell_type": "code",
   "execution_count": 8,
   "metadata": {},
   "outputs": [
    {
     "data": {
      "text/plain": [
       "(6000, 784, 1)"
      ]
     },
     "execution_count": 8,
     "metadata": {},
     "output_type": "execute_result"
    }
   ],
   "source": [
    "train = data[0:6000]\n",
    "test = data[6000::]\n",
    "\n",
    "y_train = train['label'].values.reshape(-1,1)\n",
    "X_train = train.drop(['label'], axis=1).values\n",
    "\n",
    "X_conv = X_train[:, :, np.newaxis]\n",
    "X_conv.shape"
   ]
  },
  {
   "cell_type": "code",
   "execution_count": 20,
   "metadata": {},
   "outputs": [
    {
     "data": {
      "text/plain": [
       "10"
      ]
     },
     "execution_count": 20,
     "metadata": {},
     "output_type": "execute_result"
    }
   ],
   "source": [
    "classes = len(np.unique(y_train))\n",
    "classes"
   ]
  },
  {
   "cell_type": "code",
   "execution_count": 21,
   "metadata": {},
   "outputs": [],
   "source": [
    "y_one_hot = one_hot_y(y_train, classes)"
   ]
  },
  {
   "cell_type": "code",
   "execution_count": 23,
   "metadata": {},
   "outputs": [
    {
     "name": "stderr",
     "output_type": "stream",
     "text": [
      " 10%|█         | 10/100 [03:58<36:15, 24.18s/it]"
     ]
    }
   ],
   "source": [
    "net = Sequentiel([\n",
    "    Conv1D(k_size=3, chan_in=1, chan_out=32, stride=2, init=\"he\"),\n",
    "    MaxPool1D(2, 2),\n",
    "    Flatten(),\n",
    "    Linear(6240, 100, init=\"he\"),\n",
    "    ReLU(),\n",
    "    Linear(100, 10, init=\"he\"),\n",
    "], classes_type=\"multi\")\n",
    "\n",
    "optim = Optim(net, CELogSoftmax(), eps=1e-5)\n",
    "optim.SGD(X_conv, y_one_hot, test_train_split=True, batch_size=len(X_conv), epochs=100, verbose=False)\n",
    "\n",
    "plot_net(optim, X_conv, y_one_hot, net_type=\"multiclass\", net_title=\"Conv multi-classification\")"
   ]
  }
 ],
 "metadata": {
  "kernelspec": {
   "display_name": "base",
   "language": "python",
   "name": "python3"
  },
  "language_info": {
   "codemirror_mode": {
    "name": "ipython",
    "version": 3
   },
   "file_extension": ".py",
   "mimetype": "text/x-python",
   "name": "python",
   "nbconvert_exporter": "python",
   "pygments_lexer": "ipython3",
   "version": "3.9.12"
  },
  "orig_nbformat": 4
 },
 "nbformat": 4,
 "nbformat_minor": 2
}
