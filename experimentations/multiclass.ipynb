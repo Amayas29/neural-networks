{
 "cells": [
  {
   "cell_type": "code",
   "execution_count": 1,
   "metadata": {},
   "outputs": [],
   "source": [
    "import sys\n",
    "sys.path.append('../src')\n",
    "\n",
    "from module.module import Linear\n",
    "from module.activation import TanH, Softmax\n",
    "\n",
    "from loss.loss import CrossEntropie\n",
    "from networks.optim import Optim\n",
    "from networks.sequentiel import Sequentiel\n",
    "\n",
    "from utils.generation import generate_linear_data, generate_data_gauss\n",
    "from utils.plots import plot_net\n",
    "from utils.evaluation import accuracy\n",
    "\n",
    "import numpy as np\n",
    "import pickle as pkl\n",
    "import matplotlib.pyplot as plt"
   ]
  },
  {
   "cell_type": "code",
   "execution_count": 2,
   "metadata": {},
   "outputs": [],
   "source": [
    "data = pkl.load(open(\"../data/usps.pkl\",'rb')) "
   ]
  },
  {
   "cell_type": "code",
   "execution_count": 3,
   "metadata": {},
   "outputs": [],
   "source": [
    "X_train = data[\"X_train\"]\n",
    "y_train = data[\"Y_train\"]\n",
    "X_test = data[\"X_test\"]\n",
    "y_test = data[\"Y_test\"]"
   ]
  },
  {
   "cell_type": "code",
   "execution_count": 4,
   "metadata": {},
   "outputs": [],
   "source": [
    "classes = len(np.unique(y_train))\n",
    "\n",
    "input_neurons = X_train.shape[1]\n",
    "output_neurons = classes"
   ]
  },
  {
   "cell_type": "code",
   "execution_count": 15,
   "metadata": {},
   "outputs": [],
   "source": [
    "np.random.seed(42)"
   ]
  },
  {
   "cell_type": "code",
   "execution_count": 16,
   "metadata": {},
   "outputs": [
    {
     "name": "stderr",
     "output_type": "stream",
     "text": [
      "100%|██████████| 50/50 [00:08<00:00,  6.01it/s]"
     ]
    },
    {
     "name": "stdout",
     "output_type": "stream",
     "text": [
      "Training completed.\n"
     ]
    },
    {
     "name": "stderr",
     "output_type": "stream",
     "text": [
      "\n"
     ]
    }
   ],
   "source": [
    "hidden_neurons_1 = 100\n",
    "hidden_neurons_2 = 80\n",
    "\n",
    "net = Sequentiel([\n",
    "    Linear(input_neurons, hidden_neurons_1, bias=True),\n",
    "    TanH(),\n",
    "    Linear(hidden_neurons_1, hidden_neurons_2, bias=True),\n",
    "    TanH(),\n",
    "    Linear(hidden_neurons_2, output_neurons, bias=True),\n",
    "    Softmax()\n",
    "], neg_class=0)\n",
    "\n",
    "optim = Optim(net, CrossEntropie(classes), eps=1e-3)\n",
    "optim.SGD(X_train, y_train, batch_size=50, epochs=50, verbose=False)\n",
    "\n",
    "# plot_net(X_train, y_train, net, optim.train_loss)\n",
    "# print(\"Accuracy :\", accuracy(net, X_train, y_train))"
   ]
  },
  {
   "cell_type": "code",
   "execution_count": 17,
   "metadata": {},
   "outputs": [],
   "source": [
    "def accuracy_m(net, X, y):\n",
    "    if X.ndim == 1:\n",
    "        X = X.reshape((-1, 1))\n",
    "\n",
    "    if y.ndim == 1:\n",
    "        y = y.reshape((-1, 1))\n",
    "\n",
    "    ypred = net(X)\n",
    "    yhat = np.argmax(ypred, axis=1, keepdims=True)\n",
    "\n",
    "    return (yhat == y).mean()"
   ]
  },
  {
   "cell_type": "code",
   "execution_count": 18,
   "metadata": {},
   "outputs": [
    {
     "data": {
      "text/plain": [
       "0.8860170171777171"
      ]
     },
     "execution_count": 18,
     "metadata": {},
     "output_type": "execute_result"
    }
   ],
   "source": [
    "accuracy_m(net, X_train, y_train)"
   ]
  }
 ],
 "metadata": {
  "kernelspec": {
   "display_name": "base",
   "language": "python",
   "name": "python3"
  },
  "language_info": {
   "codemirror_mode": {
    "name": "ipython",
    "version": 3
   },
   "file_extension": ".py",
   "mimetype": "text/x-python",
   "name": "python",
   "nbconvert_exporter": "python",
   "pygments_lexer": "ipython3",
   "version": "3.9.12"
  },
  "orig_nbformat": 4
 },
 "nbformat": 4,
 "nbformat_minor": 2
}
